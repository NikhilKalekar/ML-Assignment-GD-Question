{
 "cells": [
  {
   "cell_type": "code",
   "execution_count": null,
   "metadata": {},
   "outputs": [],
   "source": [
    "import numpy as np\n",
    "import math\n",
    "x=np.array([3,1,0,4])\n",
    "y=np.array([2,2,1,3])\n",
    "W=[0,1]\n",
    "h=[]\n",
    "v=np.array([])\n",
    "alpha=0.25\n",
    "m=len(x)\n"
   ]
  },
  {
   "cell_type": "code",
   "execution_count": null,
   "metadata": {},
   "outputs": [],
   "source": [
    "def Hypo(x,W):\n",
    "    h.clear()\n",
    "    for i in range(0 , 4):\n",
    "        a=np.array([1,x[i]])\n",
    "        b=np.dot(W,a)\n",
    "        h.append(b)\n",
    "        #print(h)\n",
    "    return h\n",
    "#g = Hypo(x,W)\n",
    "#print(g)"
   ]
  },
  {
   "cell_type": "code",
   "execution_count": null,
   "metadata": {},
   "outputs": [],
   "source": [
    "#print(Hypo(x,W))\n",
    "J=(1/(2*m)) * sum(((Hypo(x,W)-y)**2))\n",
    "print(J)"
   ]
  },
  {
   "cell_type": "code",
   "execution_count": null,
   "metadata": {},
   "outputs": [],
   "source": [
    "\n",
    "    \n",
    "for i in range(0,5):\n",
    "    temp0=W[0] - (alpha * ((1/m)*(sum(Hypo(x,W)-y))))\n",
    "    #v=np.array([])\n",
    "    #print(temp0)\n",
    "    v=Hypo(x,W)-y\n",
    "    temp1=W[1] -(alpha * ((1/m)*(sum(v*x))))\n",
    "    #print(temp1)\n",
    "    W[0]=temp0\n",
    "    W[1]=temp1\n",
    "    print(W[0],W[1])\n"
   ]
  },
  {
   "cell_type": "code",
   "execution_count": null,
   "metadata": {},
   "outputs": [],
   "source": [
    "print(Hypo(x,W))"
   ]
  },
  {
   "cell_type": "code",
   "execution_count": null,
   "metadata": {},
   "outputs": [],
   "source": [
    "J=(1/(2*m)) * sum(((Hypo(x,W)-y)**2))"
   ]
  },
  {
   "cell_type": "code",
   "execution_count": null,
   "metadata": {},
   "outputs": [],
   "source": [
    "print(J)"
   ]
  },
  {
   "cell_type": "code",
   "execution_count": null,
   "metadata": {},
   "outputs": [],
   "source": []
  },
  {
   "cell_type": "code",
   "execution_count": null,
   "metadata": {},
   "outputs": [],
   "source": []
  },
  {
   "cell_type": "code",
   "execution_count": null,
   "metadata": {},
   "outputs": [],
   "source": []
  },
  {
   "cell_type": "code",
   "execution_count": null,
   "metadata": {},
   "outputs": [],
   "source": []
  }
 ],
 "metadata": {
  "kernelspec": {
   "display_name": "Python 3",
   "language": "python",
   "name": "python3"
  },
  "language_info": {
   "codemirror_mode": {
    "name": "ipython",
    "version": 3
   },
   "file_extension": ".py",
   "mimetype": "text/x-python",
   "name": "python",
   "nbconvert_exporter": "python",
   "pygments_lexer": "ipython3",
   "version": "3.6.5"
  }
 },
 "nbformat": 4,
 "nbformat_minor": 2
}
